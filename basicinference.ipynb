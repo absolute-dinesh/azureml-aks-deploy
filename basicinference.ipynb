{
  "cells": [
    {
      "cell_type": "code",
      "source": [
        "# Import necessary libraries\n",
        "import numpy as np\n",
        "import joblib\n",
        "\n",
        "# Function to preprocess new data\n",
        "def preprocess_data(new_data, scaler):\n",
        "    scaled_data = scaler.transform(new_data)\n",
        "    return scaled_data\n",
        "\n",
        "# Load the trained model\n",
        "model = joblib.load('trained_model.pkl')\n",
        "\n",
        "# Load the scaler used during training\n",
        "scaler = joblib.load('scaler.pkl')\n",
        "\n",
        "# Example of new data for inference\n",
        "#new_data = np.array([[0, -0.5]])\n",
        "\n",
        "new_data = np.random.randn(100000, 2)\n",
        "\n",
        "# Preprocess the new data\n",
        "preprocessed_data = preprocess_data(new_data, scaler)\n",
        "\n",
        "# Make predictions using the trained model\n",
        "predictions = model.predict(preprocessed_data)\n",
        "\n",
        "print(\"Predictions:\", predictions)\n",
        "\n",
        "# Combine new data and predictions\n",
        "data_with_predictions = np.column_stack((new_data, predictions))\n",
        "\n",
        "# Save to CSV file\n",
        "np.savetxt('predictions.csv', data_with_predictions, delimiter=',', header='Feature 1,Feature 2,Prediction', comments='')\n",
        "\n",
        "print(\"Predictions written to predictions.csv\")"
      ],
      "outputs": [
        {
          "output_type": "stream",
          "name": "stdout",
          "text": "Predictions: [0 0 0 ... 1 0 1]\nPredictions written to predictions.csv\n"
        }
      ],
      "execution_count": 8,
      "metadata": {
        "gather": {
          "logged": 1713111345249
        }
      }
    },
    {
      "cell_type": "code",
      "source": [
        "from azureml.core import Workspace\n",
        "from azureml.core.model import Model\n",
        "from azureml.core.webservice import Webservice\n",
        "\n",
        "# Load your Azure ML workspace\n",
        "ws = Workspace.from_config()\n",
        "\n",
        "# Retrieve the deployed service by name\n",
        "service_name = 'my-service'  # Replace 'my-service' with the name of your deployed service\n",
        "service = Webservice(workspace=ws, name=service_name)\n",
        "\n",
        "# Get the scoring URI\n",
        "scoring_uri = service.scoring_uri\n",
        "\n",
        "print(\"Scoring URI:\", scoring_uri)\n"
      ],
      "outputs": [
        {
          "output_type": "stream",
          "name": "stdout",
          "text": "Scoring URI: http://4.153.179.174:80/api/v1/service/my-service/score\n"
        }
      ],
      "execution_count": 1,
      "metadata": {
        "jupyter": {
          "source_hidden": false,
          "outputs_hidden": false
        },
        "nteract": {
          "transient": {
            "deleting": false
          }
        },
        "gather": {
          "logged": 1713113968774
        }
      }
    },
    {
      "cell_type": "code",
      "source": [
        "import requests\n",
        "import json\n",
        "\n",
        "# Define the sample data for inference\n",
        "data = {\"data\": [[1.2, -0.5], [0.8, 0.1], [-0.3, 0.9]]}\n",
        "\n",
        "# Convert the data to JSON format\n",
        "input_data = json.dumps(data)\n",
        "\n",
        "# Define the scoring URI of your deployed service\n",
        "scoring_uri = 'http://4.153.179.174:80/api/v1/service/my-service/score'  # Replace with the actual scoring URI\n",
        "\n",
        "# Set the content type for the request\n",
        "headers = {'Content-Type': 'application/json'}\n",
        "\n",
        "# Send the HTTP POST request to the scoring URI\n",
        "response = requests.post(scoring_uri, data=input_data, headers=headers)\n",
        "\n",
        "# Print the response\n",
        "print(\"Predictions:\")\n",
        "print(response)\n"
      ],
      "outputs": [
        {
          "output_type": "stream",
          "name": "stdout",
          "text": "Predictions:\n<Response [404]>\n"
        }
      ],
      "execution_count": 5,
      "metadata": {
        "jupyter": {
          "source_hidden": false,
          "outputs_hidden": false
        },
        "nteract": {
          "transient": {
            "deleting": false
          }
        },
        "gather": {
          "logged": 1713114239469
        }
      }
    },
    {
      "cell_type": "code",
      "source": [
        "input_data"
      ],
      "outputs": [
        {
          "output_type": "execute_result",
          "execution_count": 4,
          "data": {
            "text/plain": "'{\"data\": [[1.2, -0.5], [0.8, 0.1], [-0.3, 0.9]]}'"
          },
          "metadata": {}
        }
      ],
      "execution_count": 4,
      "metadata": {
        "jupyter": {
          "source_hidden": false,
          "outputs_hidden": false
        },
        "nteract": {
          "transient": {
            "deleting": false
          }
        },
        "gather": {
          "logged": 1713114203197
        }
      }
    },
    {
      "cell_type": "code",
      "source": [],
      "outputs": [],
      "execution_count": null,
      "metadata": {
        "jupyter": {
          "source_hidden": false,
          "outputs_hidden": false
        },
        "nteract": {
          "transient": {
            "deleting": false
          }
        }
      }
    }
  ],
  "metadata": {
    "kernelspec": {
      "name": "python310-sdkv2",
      "language": "python",
      "display_name": "Python 3.10 - SDK v2"
    },
    "language_info": {
      "name": "python",
      "version": "3.10.11",
      "mimetype": "text/x-python",
      "codemirror_mode": {
        "name": "ipython",
        "version": 3
      },
      "pygments_lexer": "ipython3",
      "nbconvert_exporter": "python",
      "file_extension": ".py"
    },
    "microsoft": {
      "ms_spell_check": {
        "ms_spell_check_language": "en"
      },
      "host": {
        "AzureML": {
          "notebookHasBeenCompleted": true
        }
      }
    },
    "kernel_info": {
      "name": "python310-sdkv2"
    },
    "nteract": {
      "version": "nteract-front-end@1.0.0"
    }
  },
  "nbformat": 4,
  "nbformat_minor": 2
}